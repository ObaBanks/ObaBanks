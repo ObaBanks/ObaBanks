{
  "cells": [],
  "metadata": {
    "accelerator": "GPU",
    "colab": {
      "name": "ColabKobold GPU",
      "private_outputs": true,
      "provenance": []
    },
    "kernelspec": {
      "display_name": "Python 3",
      "name": "python3"
    },
    "language_info": {
      "name": "python"
    }
  },
  "nbformat": 4,
  "nbformat_minor": 0
}